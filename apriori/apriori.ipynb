{
 "cells": [
  {
   "cell_type": "code",
   "execution_count": 301,
   "metadata": {
    "scrolled": true
   },
   "outputs": [],
   "source": [
    "import numpy as np                                          #dbscan==> 掃一筆transaction 後對c2做數量增加\n",
    "import time\n",
    "import sys\n",
    "                                                            #而非一筆資料掃一次db (c * n)\n",
    "\n",
    "min_sup = float(sys.argv[2])\n",
    "\n",
    "\n",
    "with open(sys.argv[1], 'r') as f:\n",
    "    line = f.readlines()\n",
    "    \n",
    "with open(sys.argv[1], 'r') as g:\n",
    "    bigbag = g.read()\n",
    "    \n",
    "    \n",
    "    \n",
    "\n",
    "transaction = []\n",
    "for i in line:\n",
    "    box=[]\n",
    "    temp = i.replace('\\n','').split(\" \")\n",
    "    for j in temp:\n",
    "        box.append(int(j))\n",
    "    transaction.append(set(box))\n",
    "        \n",
    "    #transaction.append(set(i.replace('\\n','').split(\" \")))\n",
    "#8416,23(193568)\n",
    "transaction_np = np.array( transaction)\n",
    "#transaction_np.shape\n",
    "#print(transaction_np.shape) 8416,23\n",
    "\n",
    "min_count = int(len(transaction_np) * min_sup)\n",
    "#print(min_count)"
   ]
  },
  {
   "cell_type": "code",
   "execution_count": 302,
   "metadata": {},
   "outputs": [],
   "source": [
    "bigbag1 = bigbag.replace(\"\\n\" , \" \")\n",
    "bigbag2 = bigbag1.split(\" \") #bigbig2 ==> 交易中細項總和     \n",
    "bag_solo = set(bigbag2)  #bag_solo ==> 交易中出現的細項(不重複)\n"
   ]
  },
  {
   "cell_type": "code",
   "execution_count": 303,
   "metadata": {},
   "outputs": [],
   "source": [
    "bag_solo_int = []\n",
    "bag_solo_modi = list(bag_solo)\n",
    "bag_solo_modi.pop(0)\n",
    "\n",
    "for i in list(bag_solo_modi):\n",
    "    bag_solo_int.append(int(i))\n",
    "\n",
    "bag_solo_int.sort()"
   ]
  },
  {
   "cell_type": "code",
   "execution_count": 304,
   "metadata": {},
   "outputs": [],
   "source": [
    "c1 = {}\n",
    "for i in bag_solo_int:\n",
    "    #i = tuple(i)\n",
    "    c1[i] = 0\n",
    "\n"
   ]
  },
  {
   "cell_type": "code",
   "execution_count": 305,
   "metadata": {},
   "outputs": [],
   "source": [
    "tStart = time.time()#計時開始          #tuple ! 可以做為dict 得key\n",
    "\n",
    "for i in transaction_np:              #不要都全拿 要啥拿啥 要key拿key\n",
    "    for key in c1.keys():\n",
    "        if key in i:\n",
    "            c1[key] = c1[key] + 1\n",
    "        \n",
    "\n",
    "\n",
    "\n",
    "\n",
    "tEnd = time.time()#計時結束            \n",
    "#print (tEnd - tStart)#原型長這樣         "
   ]
  },
  {
   "cell_type": "code",
   "execution_count": 306,
   "metadata": {},
   "outputs": [],
   "source": [
    "def prune(c , count): \n",
    "    items_list = list(c.items())                            # 過濾數量小於min_count的項            \n",
    "    for k in items_list:\n",
    "        if k[1] < count:\n",
    "            del c[k[0]]\n",
    "            \n",
    "    return c"
   ]
  },
  {
   "cell_type": "code",
   "execution_count": 307,
   "metadata": {},
   "outputs": [],
   "source": [
    "l = prune(c1 , min_count)"
   ]
  },
  {
   "cell_type": "code",
   "execution_count": 308,
   "metadata": {},
   "outputs": [],
   "source": [
    "c2 = {}\n",
    "keys_list = list(c1.keys())\n",
    "for i in range(len(keys_list)):\n",
    "    for j in range(i + 1 ,len(keys_list)):\n",
    "        temp = []\n",
    "        temp.append(keys_list[i])\n",
    "        temp.append(keys_list[j])\n",
    "        temp.sort()\n",
    "        c2[tuple(temp)] = 0\n",
    "        \n",
    "        \n",
    "    \n"
   ]
  },
  {
   "cell_type": "code",
   "execution_count": 309,
   "metadata": {},
   "outputs": [],
   "source": [
    "def dbscan(c , db):\n",
    "    #tStart = time.time()#計時開始                     \n",
    "    \n",
    "    for key in c.keys():\n",
    "        key_set = set(key)\n",
    "        for i in db:\n",
    "            if key_set.issubset(i):\n",
    "                c[key] = c[key] + 1\n",
    "    \n",
    "    #tEnd = time.time()#計時結束            \n",
    "    #print (\"dbscan\",tEnd - tStart)#原型長這樣 \n",
    "    return c\n",
    "    "
   ]
  },
  {
   "cell_type": "code",
   "execution_count": 310,
   "metadata": {},
   "outputs": [],
   "source": [
    "c2 = dbscan(c2 , transaction_np )"
   ]
  },
  {
   "cell_type": "code",
   "execution_count": 311,
   "metadata": {},
   "outputs": [],
   "source": [
    "l2 = prune(c2 , min_count)"
   ]
  },
  {
   "cell_type": "code",
   "execution_count": 312,
   "metadata": {},
   "outputs": [],
   "source": [
    "def canfindsuperornot(first , second , level):\n",
    "    \n",
    "    first = list(first)\n",
    "    second = list(second)\n",
    "    count = 0\n",
    "\n",
    "    for i,j in zip(first , second):\n",
    "        if i==j :\n",
    "            count = count + 1\n",
    "    \n",
    "    if count == level :\n",
    "        return True\n",
    "    else:\n",
    "        return False\n",
    "    \n",
    "    \n",
    "    "
   ]
  },
  {
   "cell_type": "code",
   "execution_count": 313,
   "metadata": {},
   "outputs": [],
   "source": [
    "def findsupertarget(first , second ):\n",
    "    target = []\n",
    "    \n",
    "    s1 = set(first)\n",
    "    s2 = set(second)  \n",
    "    samepart = s1.intersection(s2)\n",
    "    diffpart = s1.symmetric_difference(s2)\n",
    "\n",
    "    samepart = list(samepart)\n",
    "    diffpart = list(diffpart)\n",
    "    \n",
    "    for i in range(len(samepart)):\n",
    "        temp = samepart.copy()                     #兩個list的copy不能直接用等於\"=\" ,這樣只是一個list有兩個reference指向同一個地方\n",
    "        temp.pop(i)\n",
    "        temp.extend(diffpart)\n",
    "        temp.sort()\n",
    "        target.append(tuple(temp))\n",
    "    \n",
    "    return target\n",
    "        \n",
    "        \n",
    "        \n",
    "    "
   ]
  },
  {
   "cell_type": "code",
   "execution_count": 314,
   "metadata": {},
   "outputs": [],
   "source": [
    "def decidesuper(first , second ,needtofind, l):\n",
    "    \n",
    "    vote = []\n",
    "    first = set(first)\n",
    "    seconf = set(second)\n",
    "    superone = list(first.union(second))\n",
    "    superone.sort()\n",
    "    superone = tuple(superone)\n",
    "    \n",
    "    for i in needtofind:\n",
    "        judge = 1\n",
    "        if i in l:\n",
    "            judge = judge * 0\n",
    "        else:\n",
    "            judge = judge * 1\n",
    "        \n",
    "        if judge == 0 :\n",
    "            vote.append(1)\n",
    "        else:\n",
    "            vote.append(0)  \n",
    "            break\n",
    "    \n",
    "    decide = 1\n",
    "    for i in vote:\n",
    "        decide = decide * i\n",
    "    \n",
    "\n",
    "     \n",
    "    if decide == 1 :\n",
    "        return (True, superone)\n",
    "    else:\n",
    "        return (False , [])\n",
    "                            \n",
    "        \n",
    "    \n",
    "    \n",
    "    \n",
    "    \n",
    "    "
   ]
  },
  {
   "cell_type": "code",
   "execution_count": 315,
   "metadata": {},
   "outputs": [],
   "source": [
    "def apriori(l , min_count , db):\n",
    "    tStart2 = time.time()#計時開始\n",
    "    level = 1\n",
    "    keys_list = list(l.keys())\n",
    "    keys_list.sort()\n",
    "    iteration = True\n",
    "    newc = {}\n",
    "    final = l.copy()\n",
    "    \n",
    "    while iteration:\n",
    "        #tStart = time.time()#計時開始\n",
    "        #print(level)\n",
    "        #print(keys_list)\n",
    "        for i in range(len(keys_list)):\n",
    "            for j in range(i+1 , len(keys_list)):\n",
    "                if canfindsuperornot(keys_list[i] , keys_list[j] , level):\n",
    "                    target = findsupertarget(keys_list[i], keys_list[j])   #target list裡裝tuple\n",
    "                    door , temp = decidesuper(keys_list[i], keys_list[j], target ,final)\n",
    "                    if door :\n",
    "                        if temp not in newc:\n",
    "                            #listout.append(temp)  \n",
    "                            newc[temp] = 0\n",
    "                \n",
    "                else:\n",
    "                    break\n",
    "                \n",
    "        newc = dbscan(newc , transaction_np)\n",
    "        newl = prune(newc , min_count)\n",
    "        templ = newl.copy()\n",
    "        keys_list = list(templ.keys())\n",
    "        keys_list.sort()\n",
    "        final.update(templ)\n",
    "        #print(keys_list)\n",
    "        #print(newl)\n",
    "        #print(len(newl))\n",
    "        if len(newl) == 0:\n",
    "            break\n",
    "        \n",
    "        newc.clear()\n",
    "        level = level + 1\n",
    "        \n",
    "        tEnd = time.time()#計時結束            \n",
    "        #print (tEnd - tStart)#原型長這樣 \n",
    "    tEnd2 = time.time()#計時結束            \n",
    "    print (tEnd2 - tStart2)#原型長這樣     \n",
    "    return final\n",
    "        \n",
    "        \n",
    "        \n",
    "                    \n",
    "        \n",
    "    "
   ]
  },
  {
   "cell_type": "code",
   "execution_count": 316,
   "metadata": {
    "scrolled": false
   },
   "outputs": [
    {
     "name": "stdout",
     "output_type": "stream",
     "text": [
      "12.046752214431763\n"
     ]
    }
   ],
   "source": [
    "z = apriori(l2 , min_count , transaction_np)  # 1 4.3   2 10.77   3 23   4 44   5 70   6 91   7 77   8 45   9 16   10 3.8   11----\n",
    "#len(z)"
   ]
  },
  {
   "cell_type": "code",
   "execution_count": 266,
   "metadata": {},
   "outputs": [],
   "source": [
    "l.update(z)"
   ]
  },
  {
   "cell_type": "code",
   "execution_count": 267,
   "metadata": {},
   "outputs": [],
   "source": [
    "#len(l) #53337 for support = 0.2 total amount of frequent item set"
   ]
  },
  {
   "cell_type": "code",
   "execution_count": 268,
   "metadata": {},
   "outputs": [],
   "source": [
    "f = open(sys.argv[3] , 'w')\n",
    "\n",
    "for key , value in l.items():\n",
    "    temp = \"\"\n",
    "    if isinstance(key , int):\n",
    "        temp = temp+str(key)\n",
    "    else:\n",
    "        for i in key:\n",
    "            temp = temp + str(i) + \" \"\n",
    "            \n",
    "    temp = temp + \"(\"+str(value)+\")\" + \"\\n\"\n",
    "    f.write(temp)\n",
    "f.close()"
   ]
  },
  {
   "cell_type": "code",
   "execution_count": null,
   "metadata": {},
   "outputs": [],
   "source": []
  },
  {
   "cell_type": "code",
   "execution_count": null,
   "metadata": {},
   "outputs": [],
   "source": []
  }
 ],
 "metadata": {
  "kernelspec": {
   "display_name": "Python 3",
   "language": "python",
   "name": "python3"
  },
  "language_info": {
   "codemirror_mode": {
    "name": "ipython",
    "version": 3
   },
   "file_extension": ".py",
   "mimetype": "text/x-python",
   "name": "python",
   "nbconvert_exporter": "python",
   "pygments_lexer": "ipython3",
   "version": "3.6.4"
  }
 },
 "nbformat": 4,
 "nbformat_minor": 2
}
