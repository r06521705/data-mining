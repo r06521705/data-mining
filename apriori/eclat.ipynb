{
 "cells": [
  {
   "cell_type": "code",
   "execution_count": 1,
   "metadata": {},
   "outputs": [],
   "source": [
    "import numpy as np                                          #dbscan==> 掃一筆transaction 後對c2做數量增加\n",
    "import time\n",
    "import sys                                                  #而非一筆資料掃一次db (c * n)\n",
    "\n",
    "min_sup = float(sys.argv[2])\n",
    "\n",
    "\n",
    "with open(sys.argv[1], 'r') as f:\n",
    "    line = f.readlines()\n",
    "    \n",
    "with open(sys.argv[1], 'r') as g:\n",
    "    bigbag = g.read()\n",
    "    \n",
    "    \n",
    "    \n",
    "\n",
    "transaction = []\n",
    "for i in line:\n",
    "    box=[]\n",
    "    temp = i.replace('\\n','').split(\" \")\n",
    "    for j in temp:\n",
    "        box.append(int(j))\n",
    "    transaction.append(set(box))\n",
    "        \n",
    "    #transaction.append(set(i.replace('\\n','').split(\" \")))\n",
    "#8416,23(193568)\n",
    "transaction_np = np.array( transaction)\n",
    "#transaction_np.shape\n",
    "#print(transaction_np.shape) 8416,23\n",
    "\n",
    "min_count = int(len(transaction_np) * min_sup)\n",
    "#print(transaction_np)"
   ]
  },
  {
   "cell_type": "code",
   "execution_count": 2,
   "metadata": {},
   "outputs": [],
   "source": [
    "bigbag1 = bigbag.replace(\"\\n\" , \" \")\n",
    "bigbag2 = bigbag1.split(\" \") #bigbig2 ==> 交易中細項總和     \n",
    "bag_solo = set(bigbag2)  #bag_solo ==> 交易中出現的細項(不重複)\n"
   ]
  },
  {
   "cell_type": "code",
   "execution_count": 3,
   "metadata": {},
   "outputs": [],
   "source": [
    "bag_solo_int = []\n",
    "bag_solo_modi = list(bag_solo)\n",
    "bag_solo_modi.sort()\n",
    "bag_solo_modi.pop(0)\n",
    "\n",
    "\n",
    "\n",
    "for i in list(bag_solo_modi):\n",
    "    bag_solo_int.append(int(i))\n",
    "\n",
    "bag_solo_int.sort()"
   ]
  },
  {
   "cell_type": "code",
   "execution_count": 4,
   "metadata": {},
   "outputs": [],
   "source": [
    "# 先做一個用編號當key的transaction dict\n",
    "trans_dict = {}\n",
    "for i in range(len(transaction_np)):\n",
    "    trans_dict[i+1] = transaction_np[i]\n"
   ]
  },
  {
   "cell_type": "code",
   "execution_count": 5,
   "metadata": {},
   "outputs": [],
   "source": [
    "c1 = {}                                            #c1 key ==> \n",
    "for i in bag_solo_int:\n",
    "    temp = []\n",
    "    for key,value in trans_dict.items():\n",
    "        if i in value:\n",
    "            temp.append(key)\n",
    "    temp = set(temp)\n",
    "    c1[i] = temp\n",
    "        "
   ]
  },
  {
   "cell_type": "code",
   "execution_count": 6,
   "metadata": {},
   "outputs": [],
   "source": [
    "def prune(c , count):\n",
    "    items_list = list(c.items())                            # 過濾數量小於min_count的項            \n",
    "    for k in items_list:\n",
    "        if len(k[1]) < count:\n",
    "            del c[k[0]]\n",
    "            \n",
    "    return c"
   ]
  },
  {
   "cell_type": "code",
   "execution_count": 7,
   "metadata": {},
   "outputs": [],
   "source": [
    "l1 = prune(c1 , min_count)"
   ]
  },
  {
   "cell_type": "code",
   "execution_count": 8,
   "metadata": {},
   "outputs": [],
   "source": [
    "items_list = list(l1.items())\n",
    "a = items_list[0][1]\n",
    "b = items_list[2][1]\n",
    "\n",
    "#cross = items_list[0][1].intersection(items_list[1][1])\n",
    "\n",
    "#print(a&b)"
   ]
  },
  {
   "cell_type": "code",
   "execution_count": 9,
   "metadata": {},
   "outputs": [],
   "source": [
    "c2 = {}\n",
    "items_list = list(l1.items())\n",
    "for i in range(len(items_list)):\n",
    "    for j in range(i + 1 ,len(items_list)):\n",
    "        temp = []\n",
    "        temp.append(items_list[i][0])\n",
    "        temp.append(items_list[j][0])\n",
    "        temp.sort()\n",
    "        temp = tuple(temp)\n",
    "        cross = items_list[i][1].intersection(items_list[j][1])\n",
    "        c2[temp] = cross\n",
    "\n"
   ]
  },
  {
   "cell_type": "code",
   "execution_count": 10,
   "metadata": {},
   "outputs": [],
   "source": [
    "l2 = prune(c2 , min_count)   #c 861  l 370"
   ]
  },
  {
   "cell_type": "code",
   "execution_count": 11,
   "metadata": {},
   "outputs": [],
   "source": [
    "#l2 正確"
   ]
  },
  {
   "cell_type": "code",
   "execution_count": 12,
   "metadata": {},
   "outputs": [],
   "source": [
    "def canfindsuperornot(first , second , level):\n",
    "    \n",
    "    first = list(first)\n",
    "    second = list(second)\n",
    "    count = 0\n",
    "\n",
    "    for i,j in zip(first , second):\n",
    "        if i==j :\n",
    "            count = count + 1\n",
    "    \n",
    "    if count == level :\n",
    "        return True\n",
    "    else:\n",
    "        return False\n",
    "    \n",
    "    \n",
    "    "
   ]
  },
  {
   "cell_type": "code",
   "execution_count": 13,
   "metadata": {},
   "outputs": [],
   "source": [
    "def findsupertarget(first , second ):\n",
    "    target = []\n",
    "    \n",
    "    s1 = set(first)\n",
    "    s2 = set(second)  \n",
    "    samepart = s1.intersection(s2)\n",
    "    diffpart = s1.symmetric_difference(s2)\n",
    "\n",
    "    samepart = list(samepart)\n",
    "    diffpart = list(diffpart)\n",
    "    \n",
    "    for i in range(len(samepart)):\n",
    "        temp = samepart.copy()                     #兩個list的copy不能直接用等於\"=\" ,這樣只是一個list有兩個reference指向同一個地方\n",
    "        temp.pop(i)\n",
    "        temp.extend(diffpart)\n",
    "        temp.sort()\n",
    "        target.append(tuple(temp))\n",
    "    \n",
    "    return target\n",
    "        \n",
    "        \n",
    "        \n",
    "    "
   ]
  },
  {
   "cell_type": "code",
   "execution_count": 14,
   "metadata": {},
   "outputs": [],
   "source": [
    "def decidesuper(first , second ,needtofind, l):\n",
    "    \n",
    "    vote = []\n",
    "    first = set(first)\n",
    "    seconf = set(second)\n",
    "    superone = list(first.union(second))\n",
    "    superone.sort()\n",
    "    superone = tuple(superone)\n",
    "    \n",
    "    for i in needtofind:\n",
    "        judge = 1\n",
    "        if i in l:\n",
    "            judge = judge * 0\n",
    "        else:\n",
    "            judge = judge * 1\n",
    "        \n",
    "        if judge == 0 :\n",
    "            vote.append(1)\n",
    "        else:\n",
    "            vote.append(0)  \n",
    "            break\n",
    "    \n",
    "    decide = 1\n",
    "    for i in vote:\n",
    "        decide = decide * i\n",
    "    \n",
    "\n",
    "     \n",
    "    if decide == 1 :\n",
    "        return (True, superone)\n",
    "    else:\n",
    "        return (False , [])\n",
    "                            \n",
    "        \n",
    "    \n",
    "    \n",
    "    \n",
    "    \n",
    "    "
   ]
  },
  {
   "cell_type": "code",
   "execution_count": 15,
   "metadata": {},
   "outputs": [],
   "source": [
    "def apriori(l , min_count ):\n",
    "    tStart2 = time.time()#計時開始\n",
    "    level = 1\n",
    "    items_list = list(l.items())\n",
    "    items_list.sort()  # watch\n",
    "    iteration = True\n",
    "    newc = {}\n",
    "    final = l.copy()\n",
    "    \n",
    "    while iteration:\n",
    "        tStart = time.time()#計時開始\n",
    "        #print(level)\n",
    "        #print(keys_list)\n",
    "        for i  in range(len(items_list)):\n",
    "            for j in range(i+1 , len(items_list)):\n",
    "                if canfindsuperornot(items_list[i][0] , items_list[j][0] , level):\n",
    "                    target = findsupertarget(items_list[i][0], items_list[j][0])   #target list裡裝tuple\n",
    "                    door , temp = decidesuper(items_list[i][0], items_list[j][0], target ,final)\n",
    "                    if door :\n",
    "                        if temp not in newc:\n",
    "                            #listout.append(temp)  \n",
    "                            #newc[temp] = 0\n",
    "                            cross = items_list[i][1].intersection(items_list[j][1])\n",
    "                            newc[temp] = cross\n",
    "                \n",
    "                else:\n",
    "                    break\n",
    "                \n",
    "        #newc = dbscan(newc , transaction_np)\n",
    "        newl = prune(newc , min_count)\n",
    "\n",
    "        items_list = list(newl.items())\n",
    "        items_list.sort()\n",
    "        final.update(newl)\n",
    "        #print(keys_list)\n",
    "        #print(newl)\n",
    "        #print(len(newl))\n",
    "        if len(newl) == 0:\n",
    "            break\n",
    "        newl.clear()\n",
    "        newc.clear()\n",
    "        level = level + 1\n",
    "        \n",
    "        tEnd = time.time()#計時結束            \n",
    "        #print (tEnd - tStart)#原型長這樣 \n",
    "    tEnd2 = time.time()#計時結束            \n",
    "    #print (tEnd2 - tStart2)#原型長這樣     \n",
    "    return final\n",
    "        \n",
    "        \n",
    "        \n",
    "                    \n",
    "        \n",
    "    "
   ]
  },
  {
   "cell_type": "code",
   "execution_count": 16,
   "metadata": {},
   "outputs": [
    {
     "name": "stdout",
     "output_type": "stream",
     "text": [
      "1\n",
      "0.5495603084564209\n",
      "2\n",
      "1.103055477142334\n",
      "3\n",
      "1.9038708209991455\n",
      "4\n",
      "3.347074270248413\n",
      "5\n",
      "4.394219160079956\n",
      "6\n",
      "2.5840888023376465\n",
      "7\n",
      "4.271603584289551\n",
      "8\n",
      "1.2476637363433838\n",
      "9\n",
      "0.5834095478057861\n",
      "10\n",
      "0.19547677040100098\n",
      "11\n",
      "0.05186152458190918\n",
      "12\n",
      "0.010970354080200195\n",
      "13\n",
      "0.0019948482513427734\n",
      "14\n",
      "20.24784278869629\n"
     ]
    }
   ],
   "source": [
    "z = apriori(l2 , min_count )"
   ]
  },
  {
   "cell_type": "code",
   "execution_count": 53,
   "metadata": {},
   "outputs": [],
   "source": [
    "l1.update(z)"
   ]
  },
  {
   "cell_type": "code",
   "execution_count": 54,
   "metadata": {},
   "outputs": [],
   "source": [
    "f = open(sys.argv[3] , 'w')\n",
    "\n",
    "for key , value in l1.items():\n",
    "    temp = \"\"\n",
    "    if isinstance(key , int):\n",
    "        temp = temp+str(key)\n",
    "    else:\n",
    "        for i in key:\n",
    "            temp = temp + str(i) + \" \"\n",
    "            \n",
    "    temp = temp + \"(\"+str(len(value))+\")\" + \"\\n\"\n",
    "    f.write(temp)\n",
    "f.close()"
   ]
  },
  {
   "cell_type": "code",
   "execution_count": null,
   "metadata": {},
   "outputs": [],
   "source": []
  }
 ],
 "metadata": {
  "kernelspec": {
   "display_name": "Python 3",
   "language": "python",
   "name": "python3"
  },
  "language_info": {
   "codemirror_mode": {
    "name": "ipython",
    "version": 3
   },
   "file_extension": ".py",
   "mimetype": "text/x-python",
   "name": "python",
   "nbconvert_exporter": "python",
   "pygments_lexer": "ipython3",
   "version": "3.6.4"
  }
 },
 "nbformat": 4,
 "nbformat_minor": 2
}
